{
 "cells": [
  {
   "cell_type": "code",
   "execution_count": 1,
   "id": "dd177563",
   "metadata": {},
   "outputs": [],
   "source": [
    "import dendropy"
   ]
  },
  {
   "cell_type": "code",
   "execution_count": 3,
   "id": "86855f0a",
   "metadata": {},
   "outputs": [
    {
     "name": "stdout",
     "output_type": "stream",
     "text": [
      "(a:0.954695086,(c:0.00250627091,(b:0.00250627091,d:10.5966347):0.00250627091):0.00250627091):5.93708594\n"
     ]
    }
   ],
   "source": [
    "bl = [9.54695086e-01, 2.50627091e-03, 2.50627091e-03, 1.05966347e+01, 2.50627091e-03, 2.50627091e-03, 5.93708594e+00]\n",
    "topology = \"(a,(c,(b,d)));\"\n",
    "\n",
    "nwkt = dendropy.Tree.get(data=topology, schema=\"newick\", rooting=\"force-rooted\")\n",
    "for i, e in enumerate(nwkt.postorder_edge_iter()):\n",
    "    e.length = bl[i]\n",
    "print(nwkt)"
   ]
  },
  {
   "cell_type": "code",
   "execution_count": 4,
   "id": "af00ba6e",
   "metadata": {},
   "outputs": [
    {
     "name": "stdout",
     "output_type": "stream",
     "text": [
      "(a:1.12595635,(c:0.00250627091,(b:0.00250627091,d:10.5966347):0.00250627091):0.00250627091):4.50738462\n"
     ]
    }
   ],
   "source": [
    "bl = [1.12595635e+00, 2.50627091e-03, 2.50627091e-03, 1.05966347e+01, 2.50627091e-03, 2.50627091e-03, 4.50738462e+00]\n",
    "topology = \"(a,(c,(b,d)));\"\n",
    "\n",
    "nwkt = dendropy.Tree.get(data=topology, schema=\"newick\", rooting=\"force-rooted\")\n",
    "for i, e in enumerate(nwkt.postorder_edge_iter()):\n",
    "    e.length = bl[i]\n",
    "print(nwkt)"
   ]
  },
  {
   "cell_type": "code",
   "execution_count": 5,
   "id": "30c1f57f",
   "metadata": {},
   "outputs": [
    {
     "name": "stdout",
     "output_type": "stream",
     "text": [
      "(a:1.5463727,(c:0.00250627091,(b:0.00250627091,d:10.5966347):0.00250627091):0.00250627091):3.83789555\n"
     ]
    }
   ],
   "source": [
    "bl = [1.54637270e+00, 2.50627091e-03, 2.50627091e-03, 1.05966347e+01, 2.50627091e-03, 2.50627091e-03, 3.83789555e+00]\n",
    "topology = \"(a,(c,(b,d)));\"\n",
    "\n",
    "nwkt = dendropy.Tree.get(data=topology, schema=\"newick\", rooting=\"force-rooted\")\n",
    "for i, e in enumerate(nwkt.postorder_edge_iter()):\n",
    "    e.length = bl[i]\n",
    "print(nwkt)"
   ]
  },
  {
   "cell_type": "code",
   "execution_count": null,
   "id": "719766ca",
   "metadata": {},
   "outputs": [],
   "source": [
    " [2.15942972e+00 2.50627091e-03 2.50627091e-03 1.05966347e+01\n",
    " 2.50627091e-03 2.50627091e-03 5.41756698e+00]\n",
    "200 characters 0 4 (a,(c,(b,d)));"
   ]
  },
  {
   "cell_type": "code",
   "execution_count": 8,
   "id": "5b1e7c60",
   "metadata": {},
   "outputs": [
    {
     "name": "stdout",
     "output_type": "stream",
     "text": [
      "(a:0.000431266496,(c:7.68642866,(b:0.000100010001,d:7.09779143):7.09779143):7.11063897):7.09779143\n"
     ]
    }
   ],
   "source": [
    "bl = [4.31266496e-04, 7.68642866e+00, 1.00010001e-04, 7.09779143e+00, 7.09779143e+00, 7.11063897e+00, 7.09779143e+00]\n",
    "topology = \"(a,(c,(b,d)));\"\n",
    "\n",
    "nwkt = dendropy.Tree.get(data=topology, schema=\"newick\", rooting=\"force-rooted\")\n",
    "for i, e in enumerate(nwkt.postorder_edge_iter()):\n",
    "    e.length = bl[i]\n",
    "print(nwkt)\n"
   ]
  },
  {
   "cell_type": "code",
   "execution_count": null,
   "id": "cd05af48",
   "metadata": {},
   "outputs": [],
   "source": []
  }
 ],
 "metadata": {
  "kernelspec": {
   "display_name": "Python 3",
   "language": "python",
   "name": "python3"
  },
  "language_info": {
   "codemirror_mode": {
    "name": "ipython",
    "version": 3
   },
   "file_extension": ".py",
   "mimetype": "text/x-python",
   "name": "python",
   "nbconvert_exporter": "python",
   "pygments_lexer": "ipython3",
   "version": "3.7.10"
  }
 },
 "nbformat": 4,
 "nbformat_minor": 5
}
