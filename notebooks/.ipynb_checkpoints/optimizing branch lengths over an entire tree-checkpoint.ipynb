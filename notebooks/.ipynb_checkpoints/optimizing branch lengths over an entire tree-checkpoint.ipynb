{
 "cells": [
  {
   "cell_type": "code",
   "execution_count": 4,
   "id": "dac24e8e",
   "metadata": {},
   "outputs": [],
   "source": [
    "import numpy as np\n",
    "from scipy import optimize\n",
    "import math\n",
    "from math import log, exp\n",
    "\n",
    "import sys\n",
    "sys.path.append(\"/Users/gillianchu/raphael/repos/problin/problin_libs\")\n",
    "from distance_based_lib import ML_pairwise_estimate\n",
    "from ml import wrapper_felsenstein"
   ]
  },
  {
   "cell_type": "markdown",
   "id": "e049b104",
   "metadata": {},
   "source": [
    "# Optimize Branch Lengths"
   ]
  },
  {
   "cell_type": "code",
   "execution_count": 5,
   "id": "516526d7",
   "metadata": {},
   "outputs": [],
   "source": [
    "def fun_hess(x):\n",
    "    a, b, r = x\n",
    "    global q\n",
    "    m = np.array([[(-((exp(b) - 1)*q*((q-1)*exp(a+b) + exp(a+b+r) - exp(a)*q)))/((q-1)*exp(a+b) - q*exp(a) - q*exp(b) + q)**2 + (-(exp(a)*(S_3 + S_4))/(exp(a) - 1)**2) , (q*(exp(r)-1)*exp(a+b))/((q-1)*exp(a+b) + exp(a+b+r) - q*exp(b) - q*exp(b) + q)**2, (-(exp(b) - 1)*exp(a+b+r))/((q-1)*exp(a+b) + exp(a+b+r) - q*exp(a) - q*exp(b) + q)**2],\n",
    "                  [(q*(exp(r)-1)*exp(a+b))/((q-1)*exp(a+b) + exp(a+b+r) - q*exp(a) - q*exp(b) + q)**2 , (-(exp(a) - 1) * q * ((q-1)*exp(a+b) + exp(a+b+r) - exp(b) * q)) / ((q-1)*exp(a+b) + exp(a+b+r) - q*exp(a) - q*exp(b) + q)**2 - (exp(b) * (S_3 + S_5))/(exp(b) - 1)**2, (-(expa - 1)*q*exp(a+b+r))/((q-1)*exp(a+b) + exp(a+b+r) - q*exp(a) - q*exp(b) + q)**2],\n",
    "                  [(-(exp(b) - 1)*exp(a+b+r))/((q-1)*exp(a+b) + exp(a+b+r) - q*exp(a) - q*exp(b) + q)**2 , (-(exp(a) - 1)*q*exp(a+b+r))/((q-1)*exp(a+b) + exp(a+b+r) - q*exp(a) - q*exp(b) + q)**2, -((q-1)*(-exp(a+b)) + exp(a) * q + exp(b) * q - q) * exp(a+b+r)/((q-1)*(exp(a+b) + exp(a+b+r) - q*exp(a) - q*exp(b) + q))**2]\n",
    "                 ])\n",
    "    \n",
    "    return m \n"
   ]
  },
  {
   "cell_type": "code",
   "execution_count": 7,
   "id": "53242fcc",
   "metadata": {},
   "outputs": [],
   "source": [
    "# k=20\n",
    "# dmax = -log(1/k)*2\n",
    "# dmin = -log(1-1/k)/2\n",
    "# bound = (dmin,dmax)\n",
    "# scipy.optimize.minimize(l, [0.1, 0.2, 0.3], hess=fun_hess, method=\"SLSQP\", tol=1e2, options={'disp': False}, bounds=[bound, bound, bound])\n",
    "\n"
   ]
  },
  {
   "cell_type": "markdown",
   "id": "7e86036e",
   "metadata": {},
   "source": [
    "# Optimize Felsenstein"
   ]
  },
  {
   "cell_type": "code",
   "execution_count": 8,
   "id": "910dd606",
   "metadata": {},
   "outputs": [
    {
     "name": "stdout",
     "output_type": "stream",
     "text": [
      "q_dict [{0: 0.2, 1: 0.3, 2: 0.5}, {0: 0.2, 1: 0.3, 2: 0.5}, {0: 0.2, 1: 0.3, 2: 0.5}]\n"
     ]
    },
    {
     "ename": "TypeError",
     "evalue": "object of type 'generator' has no len()",
     "output_type": "error",
     "traceback": [
      "\u001b[0;31m---------------------------------------------------------------------------\u001b[0m",
      "\u001b[0;31mTypeError\u001b[0m                                 Traceback (most recent call last)",
      "\u001b[0;32m<ipython-input-8-222e261305ab>\u001b[0m in \u001b[0;36m<module>\u001b[0;34m\u001b[0m\n\u001b[1;32m     12\u001b[0m      \u001b[0;34m{\u001b[0m\u001b[0;36m0\u001b[0m\u001b[0;34m:\u001b[0m \u001b[0;36m0.2\u001b[0m\u001b[0;34m,\u001b[0m \u001b[0;36m1\u001b[0m\u001b[0;34m:\u001b[0m\u001b[0;36m0.3\u001b[0m\u001b[0;34m,\u001b[0m \u001b[0;36m2\u001b[0m\u001b[0;34m:\u001b[0m\u001b[0;36m0.5\u001b[0m\u001b[0;34m}\u001b[0m\u001b[0;34m,\u001b[0m \u001b[0;31m# site 3\u001b[0m\u001b[0;34m\u001b[0m\u001b[0;34m\u001b[0m\u001b[0m\n\u001b[1;32m     13\u001b[0m     ]\n\u001b[0;32m---> 14\u001b[0;31m \u001b[0mwrapper_felsenstein\u001b[0m\u001b[0;34m(\u001b[0m\u001b[0mT\u001b[0m\u001b[0;34m,\u001b[0m \u001b[0mQ\u001b[0m\u001b[0;34m,\u001b[0m \u001b[0mmsa\u001b[0m\u001b[0;34m,\u001b[0m \u001b[0mroot_edge_len\u001b[0m\u001b[0;34m=\u001b[0m\u001b[0;36m0.2\u001b[0m\u001b[0;34m)\u001b[0m\u001b[0;34m\u001b[0m\u001b[0;34m\u001b[0m\u001b[0m\n\u001b[0m",
      "\u001b[0;32m~/raphael/repos/problin/problin_libs/ml.py\u001b[0m in \u001b[0;36mwrapper_felsenstein\u001b[0;34m(T, Q, msa, root_edge_len, use_log, initials)\u001b[0m\n\u001b[1;32m    148\u001b[0m     \u001b[0mprint\u001b[0m\u001b[0;34m(\u001b[0m\u001b[0;34m\"q_dict\"\u001b[0m\u001b[0;34m,\u001b[0m \u001b[0mQ\u001b[0m\u001b[0;34m)\u001b[0m\u001b[0;34m\u001b[0m\u001b[0;34m\u001b[0m\u001b[0m\n\u001b[1;32m    149\u001b[0m     \u001b[0mnwkt\u001b[0m \u001b[0;34m=\u001b[0m \u001b[0mdendropy\u001b[0m\u001b[0;34m.\u001b[0m\u001b[0mTree\u001b[0m\u001b[0;34m.\u001b[0m\u001b[0mget\u001b[0m\u001b[0;34m(\u001b[0m\u001b[0mdata\u001b[0m\u001b[0;34m=\u001b[0m\u001b[0mT\u001b[0m\u001b[0;34m,\u001b[0m \u001b[0mschema\u001b[0m\u001b[0;34m=\u001b[0m\u001b[0;34m\"newick\"\u001b[0m\u001b[0;34m)\u001b[0m\u001b[0;34m\u001b[0m\u001b[0;34m\u001b[0m\u001b[0m\n\u001b[0;32m--> 150\u001b[0;31m     \u001b[0mnum_edges\u001b[0m \u001b[0;34m=\u001b[0m \u001b[0mlen\u001b[0m\u001b[0;34m(\u001b[0m\u001b[0mnwkt\u001b[0m\u001b[0;34m.\u001b[0m\u001b[0mpostorder_edge_iter\u001b[0m\u001b[0;34m(\u001b[0m\u001b[0;34m)\u001b[0m\u001b[0;34m)\u001b[0m\u001b[0;34m\u001b[0m\u001b[0;34m\u001b[0m\u001b[0m\n\u001b[0m\u001b[1;32m    151\u001b[0m     \u001b[0mprint\u001b[0m\u001b[0;34m(\u001b[0m\u001b[0mnwkt\u001b[0m\u001b[0;34m)\u001b[0m\u001b[0;34m\u001b[0m\u001b[0;34m\u001b[0m\u001b[0m\n\u001b[1;32m    152\u001b[0m \u001b[0;34m\u001b[0m\u001b[0m\n",
      "\u001b[0;31mTypeError\u001b[0m: object of type 'generator' has no len()"
     ]
    }
   ],
   "source": [
    "T = '[&R] ((0,1),(2,3));'\n",
    "\n",
    "msa = np.array([[1,0,2], # species 1\n",
    "                [1,0,0], # species 2\n",
    "                [0,1,2], # species 3\n",
    "                [0,1,0]] # species 4\n",
    "            )\n",
    "\n",
    "# prob of transitioning 0 -> 0, 0 -> 1, 0 -> 2\n",
    "Q = [{0: 0.2, 1:0.3, 2:0.5}, # site 1\n",
    "     {0: 0.2, 1:0.3, 2:0.5}, # site 2\n",
    "     {0: 0.2, 1:0.3, 2:0.5}, # site 3\n",
    "    ]\n",
    "wrapper_felsenstein(T, Q, msa, root_edge_len=0.2)"
   ]
  },
  {
   "cell_type": "code",
   "execution_count": null,
   "id": "3a64be70",
   "metadata": {},
   "outputs": [],
   "source": []
  }
 ],
 "metadata": {
  "kernelspec": {
   "display_name": "Python 3",
   "language": "python",
   "name": "python3"
  },
  "language_info": {
   "codemirror_mode": {
    "name": "ipython",
    "version": 3
   },
   "file_extension": ".py",
   "mimetype": "text/x-python",
   "name": "python",
   "nbconvert_exporter": "python",
   "pygments_lexer": "ipython3",
   "version": "3.7.10"
  }
 },
 "nbformat": 4,
 "nbformat_minor": 5
}
