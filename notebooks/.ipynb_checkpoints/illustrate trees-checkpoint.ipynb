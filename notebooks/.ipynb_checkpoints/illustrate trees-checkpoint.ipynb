{
 "cells": [
  {
   "cell_type": "code",
   "execution_count": 1,
   "id": "0628d795",
   "metadata": {},
   "outputs": [],
   "source": [
    "import dendropy"
   ]
  },
  {
   "cell_type": "code",
   "execution_count": 3,
   "id": "5f98ee35",
   "metadata": {},
   "outputs": [
    {
     "name": "stdout",
     "output_type": "stream",
     "text": [
      "(a:0.954695086,(c:0.00250627091,(b:0.00250627091,d:10.5966347):0.00250627091):0.00250627091):5.93708594\n"
     ]
    }
   ],
   "source": [
    "bl = [9.54695086e-01, 2.50627091e-03, 2.50627091e-03, 1.05966347e+01, 2.50627091e-03, 2.50627091e-03, 5.93708594e+00]\n",
    "topology = \"(a,(c,(b,d)));\"\n",
    "\n",
    "nwkt = dendropy.Tree.get(data=topology, schema=\"newick\", rooting=\"force-rooted\")\n",
    "for i, e in enumerate(nwkt.postorder_edge_iter()):\n",
    "    e.length = bl[i]\n",
    "print(nwkt)"
   ]
  },
  {
   "cell_type": "code",
   "execution_count": 4,
   "id": "f1796e5c",
   "metadata": {},
   "outputs": [
    {
     "name": "stdout",
     "output_type": "stream",
     "text": [
      "(a:1.12595635,(c:0.00250627091,(b:0.00250627091,d:10.5966347):0.00250627091):0.00250627091):4.50738462\n"
     ]
    }
   ],
   "source": [
    "bl = [1.12595635e+00, 2.50627091e-03, 2.50627091e-03, 1.05966347e+01, 2.50627091e-03, 2.50627091e-03, 4.50738462e+00]\n",
    "topology = \"(a,(c,(b,d)));\"\n",
    "\n",
    "nwkt = dendropy.Tree.get(data=topology, schema=\"newick\", rooting=\"force-rooted\")\n",
    "for i, e in enumerate(nwkt.postorder_edge_iter()):\n",
    "    e.length = bl[i]\n",
    "print(nwkt)"
   ]
  },
  {
   "cell_type": "code",
   "execution_count": 5,
   "id": "05c42a4e",
   "metadata": {},
   "outputs": [
    {
     "name": "stdout",
     "output_type": "stream",
     "text": [
      "(a:1.5463727,(c:0.00250627091,(b:0.00250627091,d:10.5966347):0.00250627091):0.00250627091):3.83789555\n"
     ]
    }
   ],
   "source": [
    "bl = [1.54637270e+00, 2.50627091e-03, 2.50627091e-03, 1.05966347e+01, 2.50627091e-03, 2.50627091e-03, 3.83789555e+00]\n",
    "topology = \"(a,(c,(b,d)));\"\n",
    "\n",
    "nwkt = dendropy.Tree.get(data=topology, schema=\"newick\", rooting=\"force-rooted\")\n",
    "for i, e in enumerate(nwkt.postorder_edge_iter()):\n",
    "    e.length = bl[i]\n",
    "print(nwkt)"
   ]
  },
  {
   "cell_type": "code",
   "execution_count": null,
   "id": "087bac69",
   "metadata": {},
   "outputs": [],
   "source": [
    " [2.15942972e+00 2.50627091e-03 2.50627091e-03 1.05966347e+01\n",
    " 2.50627091e-03 2.50627091e-03 5.41756698e+00]\n",
    "200 characters 0 4 (a,(c,(b,d)));"
   ]
  },
  {
   "cell_type": "code",
   "execution_count": 6,
   "id": "201769f4",
   "metadata": {},
   "outputs": [
    {
     "ename": "SyntaxError",
     "evalue": "invalid syntax (<ipython-input-6-310277db342c>, line 2)",
     "output_type": "error",
     "traceback": [
      "\u001b[0;36m  File \u001b[0;32m\"<ipython-input-6-310277db342c>\"\u001b[0;36m, line \u001b[0;32m2\u001b[0m\n\u001b[0;31m    7.09779143e+00, 7.11063897e+00, 7.09779143e+00])]\u001b[0m\n\u001b[0m                                                    ^\u001b[0m\n\u001b[0;31mSyntaxError\u001b[0m\u001b[0;31m:\u001b[0m invalid syntax\n"
     ]
    }
   ],
   "source": [
    "bl = array([4.31266496e-04, 7.68642866e+00, 1.00010001e-04, 7.09779143e+00, 7.09779143e+00, 7.11063897e+00, 7.09779143e+00])]\n",
    "topology = \"(a,(c,(b,d)));\"\n",
    "\n",
    "nwkt = dendropy.Tree.get(data=topology, schema=\"newick\", rooting=\"force-rooted\")\n",
    "for i, e in enumerate(nwkt.postorder_edge_iter()):\n",
    "    e.length = bl[i]\n",
    "print(nwkt)\n"
   ]
  },
  {
   "cell_type": "code",
   "execution_count": null,
   "id": "f5a82665",
   "metadata": {},
   "outputs": [],
   "source": []
  }
 ],
 "metadata": {
  "kernelspec": {
   "display_name": "Python 3",
   "language": "python",
   "name": "python3"
  },
  "language_info": {
   "codemirror_mode": {
    "name": "ipython",
    "version": 3
   },
   "file_extension": ".py",
   "mimetype": "text/x-python",
   "name": "python",
   "nbconvert_exporter": "python",
   "pygments_lexer": "ipython3",
   "version": "3.7.10"
  }
 },
 "nbformat": 4,
 "nbformat_minor": 5
}
