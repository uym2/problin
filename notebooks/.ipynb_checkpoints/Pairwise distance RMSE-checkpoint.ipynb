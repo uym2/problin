{
 "cells": [
  {
   "cell_type": "code",
   "execution_count": 1,
   "id": "a119f063",
   "metadata": {},
   "outputs": [],
   "source": [
    "import dendropy"
   ]
  },
  {
   "cell_type": "code",
   "execution_count": 2,
   "id": "916fa641",
   "metadata": {},
   "outputs": [],
   "source": [
    "t = \"[&R] ((0:0.0360971597765934,1:3.339535381892265):0.0360971597765934,(2:0.0360971597765934,3:3.339535381892265):0.0360971597765934);\"\n",
    "true_tree = dendropy.Tree.get(data=t, schema=\"newick\")"
   ]
  },
  {
   "cell_type": "code",
   "execution_count": 52,
   "id": "2b6e1199",
   "metadata": {},
   "outputs": [
    {
     "name": "stdout",
     "output_type": "stream",
     "text": [
      "est_dict /Users/gillianchu/raphael/repos/problin/results_estbl/m10_k20_estblestdict_m10_k20.pkl {0: {(0, 1): [2.9947668240494947, 0.16253125106928448, 0.02564664821794854], (0, 2): [2.9833079824395714, 2.983943370198398, 0.025646647193786922], (0, 3): [2.995695233622125, 0.22304402429509726, 0.02564664719377529], (1, 2): [0.16261290420924981, 2.9957251952994977, 0.025646647195187566], (1, 3): [0.1625714163861975, 0.2230443238606518, 0.02564664719377529], (2, 3): [2.915400719816632, 0.14332530753511866, 0.07973933231674149]}, 1: {(0, 1): [5.991464547107982, 0.05124252445648203, 0.025646647200814353], (0, 2): [5.991464547107982, 2.9887887321875968, 0.02564664719549937], (0, 3): [5.991464547107982, 0.02564664729395169, 0.025646647235792665], (1, 2): [0.05134801840326337, 2.995492512984681, 0.02564664719419194], (1, 3): [0.051295089351258184, 0.025646664128863694, 0.0256466804659647], (2, 3): [2.9950359353305074, 0.02564664719377529, 0.02564664719377529]}}\n"
     ]
    }
   ],
   "source": [
    "import os, glob\n",
    "import pickle\n",
    "\n",
    "# pair = [0, 1]\n",
    "# tree_dict = dict()\n",
    "est_dicts = dict()\n",
    "for k in (20, 30, 40, 50, 100, 200, 300, 400, 500, 1000, 5000):\n",
    "    filename = \"/Users/gillianchu/raphael/repos/problin/results_estbl/m10_k{0}_estblestdict_m10_k{0}.pkl\".format(k, k)\n",
    "\n",
    "    with open(filename, \"rb\") as f:\n",
    "        est_dict = pickle.load(f)\n",
    "        print('est_dict', filename, est_dict)\n",
    "        if k not in est_dicts.keys():\n",
    "            est_dicts[k] = []\n",
    "        est_dicts[k].append(est_dict)"
   ]
  },
  {
   "cell_type": "code",
   "execution_count": 57,
   "id": "2bee1b0c",
   "metadata": {},
   "outputs": [
    {
     "data": {
      "text/plain": [
       "{(0, 1): [2.9947668240494947, 0.16253125106928448, 0.02564664821794854],\n",
       " (0, 2): [2.9833079824395714, 2.983943370198398, 0.025646647193786922],\n",
       " (0, 3): [2.995695233622125, 0.22304402429509726, 0.02564664719377529],\n",
       " (1, 2): [0.16261290420924981, 2.9957251952994977, 0.025646647195187566],\n",
       " (1, 3): [0.1625714163861975, 0.2230443238606518, 0.02564664719377529],\n",
       " (2, 3): [2.915400719816632, 0.14332530753511866, 0.07973933231674149]}"
      ]
     },
     "execution_count": 57,
     "metadata": {},
     "output_type": "execute_result"
    }
   ],
   "source": [
    "k=20\n",
    "i = 0\n",
    "est_dicts[k][0][i]"
   ]
  },
  {
   "cell_type": "code",
   "execution_count": null,
   "id": "c57b8cd7",
   "metadata": {},
   "outputs": [],
   "source": []
  },
  {
   "cell_type": "code",
   "execution_count": 63,
   "id": "c0fef2d8",
   "metadata": {},
   "outputs": [
    {
     "name": "stdout",
     "output_type": "stream",
     "text": [
      "{(0, 1): [[2.9947668240494947, 0.16253125106928448, 0.02564664821794854], [5.991464547107982, 0.05124252445648203, 0.025646647200814353]], (0, 2): [[2.9833079824395714, 2.983943370198398, 0.025646647193786922], [5.991464547107982, 2.9887887321875968, 0.02564664719549937]], (0, 3): [[2.995695233622125, 0.22304402429509726, 0.02564664719377529], [5.991464547107982, 0.02564664729395169, 0.025646647235792665]], (1, 2): [[0.16261290420924981, 2.9957251952994977, 0.025646647195187566], [0.05134801840326337, 2.995492512984681, 0.02564664719419194]], (1, 3): [[0.1625714163861975, 0.2230443238606518, 0.02564664719377529], [0.051295089351258184, 0.025646664128863694, 0.0256466804659647]], (2, 3): [[2.915400719816632, 0.14332530753511866, 0.07973933231674149], [2.9950359353305074, 0.02564664719377529, 0.02564664719377529]]}\n"
     ]
    },
    {
     "ename": "KeyError",
     "evalue": "30",
     "output_type": "error",
     "traceback": [
      "\u001b[0;31m---------------------------------------------------------------------------\u001b[0m",
      "\u001b[0;31mKeyError\u001b[0m                                  Traceback (most recent call last)",
      "\u001b[0;32m<ipython-input-63-20d469649a1f>\u001b[0m in \u001b[0;36m<module>\u001b[0;34m\u001b[0m\n\u001b[1;32m      6\u001b[0m \u001b[0;32mfor\u001b[0m \u001b[0mk\u001b[0m \u001b[0;32min\u001b[0m \u001b[0;34m(\u001b[0m\u001b[0;36m20\u001b[0m\u001b[0;34m,\u001b[0m \u001b[0;36m30\u001b[0m\u001b[0;34m,\u001b[0m \u001b[0;36m40\u001b[0m\u001b[0;34m,\u001b[0m \u001b[0;36m50\u001b[0m\u001b[0;34m,\u001b[0m \u001b[0;36m100\u001b[0m\u001b[0;34m,\u001b[0m \u001b[0;36m200\u001b[0m\u001b[0;34m,\u001b[0m \u001b[0;36m300\u001b[0m\u001b[0;34m,\u001b[0m \u001b[0;36m400\u001b[0m\u001b[0;34m,\u001b[0m \u001b[0;36m500\u001b[0m\u001b[0;34m,\u001b[0m \u001b[0;36m1000\u001b[0m\u001b[0;34m,\u001b[0m \u001b[0;36m5000\u001b[0m\u001b[0;34m)\u001b[0m\u001b[0;34m:\u001b[0m\u001b[0;34m\u001b[0m\u001b[0;34m\u001b[0m\u001b[0m\n\u001b[1;32m      7\u001b[0m     \u001b[0mpair_dict\u001b[0m \u001b[0;34m=\u001b[0m \u001b[0mdict\u001b[0m\u001b[0;34m(\u001b[0m\u001b[0;34m)\u001b[0m\u001b[0;34m\u001b[0m\u001b[0;34m\u001b[0m\u001b[0m\n\u001b[0;32m----> 8\u001b[0;31m     \u001b[0;32mfor\u001b[0m \u001b[0mi\u001b[0m \u001b[0;32min\u001b[0m \u001b[0mrange\u001b[0m\u001b[0;34m(\u001b[0m\u001b[0mlen\u001b[0m\u001b[0;34m(\u001b[0m\u001b[0mest_dicts\u001b[0m\u001b[0;34m[\u001b[0m\u001b[0mk\u001b[0m\u001b[0;34m]\u001b[0m\u001b[0;34m[\u001b[0m\u001b[0;36m0\u001b[0m\u001b[0;34m]\u001b[0m\u001b[0;34m)\u001b[0m\u001b[0;34m)\u001b[0m\u001b[0;34m:\u001b[0m\u001b[0;34m\u001b[0m\u001b[0;34m\u001b[0m\u001b[0m\n\u001b[0m\u001b[1;32m      9\u001b[0m         \u001b[0mest_dict\u001b[0m \u001b[0;34m=\u001b[0m \u001b[0mest_dicts\u001b[0m\u001b[0;34m[\u001b[0m\u001b[0mk\u001b[0m\u001b[0;34m]\u001b[0m\u001b[0;34m[\u001b[0m\u001b[0;36m0\u001b[0m\u001b[0;34m]\u001b[0m\u001b[0;34m[\u001b[0m\u001b[0mi\u001b[0m\u001b[0;34m]\u001b[0m\u001b[0;34m\u001b[0m\u001b[0;34m\u001b[0m\u001b[0m\n\u001b[1;32m     10\u001b[0m         \u001b[0;32mfor\u001b[0m \u001b[0mpair\u001b[0m \u001b[0;32min\u001b[0m \u001b[0mest_dict\u001b[0m\u001b[0;34m.\u001b[0m\u001b[0mkeys\u001b[0m\u001b[0;34m(\u001b[0m\u001b[0;34m)\u001b[0m\u001b[0;34m:\u001b[0m\u001b[0;34m\u001b[0m\u001b[0;34m\u001b[0m\u001b[0m\n",
      "\u001b[0;31mKeyError\u001b[0m: 30"
     ]
    }
   ],
   "source": [
    "import numpy as np\n",
    "\n",
    "x = []\n",
    "y = dict()\n",
    "\n",
    "for k in (20, 30, 40, 50, 100, 200, 300, 400, 500, 1000, 5000):\n",
    "    pair_dict = dict()\n",
    "    for i in range(len(est_dicts[k][0])):\n",
    "        est_dict = est_dicts[k][0][i]\n",
    "        for pair in est_dict.keys():\n",
    "            if pair not in pair_dict.keys():\n",
    "                pair_dict[pair] = []\n",
    "            pair_dict[pair].append(est_dict[(pair)])\n",
    "    print(pair_dict)\n",
    "    true_pdm = true_tree.phylogenetic_distance_matrix()\n",
    "    for idx1, taxon1 in enumerate(true_tree.taxon_namespace):\n",
    "            for taxon2 in true_tree.taxon_namespace:\n",
    "                true_dist = true_pdm.patristic_distance(taxon1, taxon2)\n",
    "                pair = (int(taxon1.label), int(taxon2.label))\n",
    "\n",
    "                # compute the error between the true_dist and the new\n",
    "                if pair in pair_dict.keys():\n",
    "                    rmse = np.sqrt(((np.array([true_dist]*len(pair_dict[pair])) - np.array([sum(x[:2]) for x in pair_dict[pair]]))**2).mean())\n",
    "                    if pair not in y:\n",
    "                        y[pair] = []\n",
    "                    y[pair].append(rmse)\n",
    "    x.append(k)"
   ]
  },
  {
   "cell_type": "code",
   "execution_count": 66,
   "id": "7e14921a",
   "metadata": {},
   "outputs": [],
   "source": [
    "import matplotlib.pyplot as plt\n",
    "\n",
    "for pair in pair_dict.keys():\n",
    "    plt.title(\"Length of Sequence (k) vs {0} Distance RMSE\".format(pair))\n",
    "    plt.plot(x, y[pair])\n",
    "    ax = plt.gca()\n",
    "    ax.set_ylim([0,12])\n",
    "    plt.xlabel(\"k\")\n",
    "    plt.ylabel(\"Pairwise Distance RMSE\")\n",
    "    # plt.savefig('/Users/gillianchu/raphael/repos/problin/results_estbl/plots/pair_{0}_{1}.jpg'.format(pair[0], pair[1]))\n",
    "    plt.show()"
   ]
  },
  {
   "cell_type": "code",
   "execution_count": null,
   "id": "3b99072b",
   "metadata": {},
   "outputs": [],
   "source": []
  }
 ],
 "metadata": {
  "kernelspec": {
   "display_name": "Python 3",
   "language": "python",
   "name": "python3"
  },
  "language_info": {
   "codemirror_mode": {
    "name": "ipython",
    "version": 3
   },
   "file_extension": ".py",
   "mimetype": "text/x-python",
   "name": "python",
   "nbconvert_exporter": "python",
   "pygments_lexer": "ipython3",
   "version": "3.7.10"
  }
 },
 "nbformat": 4,
 "nbformat_minor": 5
}
