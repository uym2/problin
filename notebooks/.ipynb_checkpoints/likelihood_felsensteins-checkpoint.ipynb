{
 "cells": [
  {
   "cell_type": "code",
   "execution_count": 1,
   "id": "7954e40c",
   "metadata": {},
   "outputs": [],
   "source": [
    "import numpy as np\n",
    "\n",
    "# test data\n",
    "t_A = '[&R] ((1:0.96,3:0.96):0.14,2:1.10,4:1.10);' # rooted\n",
    "t_B = '[&R] (1:1.167,2:1.167,3:1.167:4:1.167);'\n",
    "\n",
    "t_C = '[&R] ((1:0.5,2:0.5):0.60,(3:0.5,4:0.5):0.60);' # no branches\n",
    "t_test = '[&R] (1:0.96,3:0.96):0.14;' \n",
    "\n",
    "# species by 3-site matrix\n",
    "msa = np.array([[1,0,2], # species 1\n",
    "                 [1,0,0], # species 2\n",
    "                 [0,1,2], # species 3\n",
    "                 [0,1,0]] # species 4\n",
    "               )\n",
    "\n",
    "Q = [[0.2, 0.3, 0.5], # site 1\n",
    "     [0.2, 0.3, 0.5], # site 2\n",
    "     [0.2, 0.3, 0.5]  # site 3\n",
    "    ]"
   ]
  },
  {
   "cell_type": "code",
   "execution_count": 2,
   "id": "16b8b19c",
   "metadata": {},
   "outputs": [],
   "source": [
    "# https://bio.libretexts.org/Bookshelves/Evolutionary_Developmental_Biology/Phylogenetic_Comparative_Methods_(Harmon)/08%3A_Fitting_Models_of_Discrete_Character_Evolution/8.07%3A_Appendix_-_Felsenstein's_Pruning_Algorithm\n",
    "# t = '((((1:1.0, 2:1.0):0.5, 3:1.5):1.0,((4:0.5, 5:0.5):2.0):0.5), 6:2.5);'\n",
    "# msa = np.array([[0], [1], [0], [2], [2], [1]])\n"
   ]
  },
  {
   "cell_type": "code",
   "execution_count": 3,
   "id": "4c736515",
   "metadata": {},
   "outputs": [],
   "source": [
    "\n",
    "numsites = len(msa[0])\n",
    "lambda_site = dict()\n",
    "\n",
    "for site in range(numsites):\n",
    "    lambda_site[site] = np.unique(msa.T[site])\n",
    "    \n",
    "    \n",
    "char_probs = dict()\n",
    "for site in range(numsites):\n",
    "    char_probs[site] = dict()\n",
    "    chars, counts = np.unique(msa.T[site], return_counts=True)\n",
    "    for i in range(len(chars)):\n",
    "        char_probs[site][chars[i]] = counts[i]/len(msa.T[site])"
   ]
  },
  {
   "cell_type": "code",
   "execution_count": 4,
   "id": "2e5fa95b",
   "metadata": {},
   "outputs": [
    {
     "name": "stdout",
     "output_type": "stream",
     "text": [
      "site: 0\n",
      "{0: 0.5, 1: 0.5}\n",
      "site: 1\n",
      "{0: 0.5, 1: 0.5}\n",
      "site: 2\n",
      "{0: 0.5, 1: 0.5}\n"
     ]
    }
   ],
   "source": [
    "for site in range(numsites):\n",
    "    print(\"site:\", site)\n",
    "    print(char_probs[0])"
   ]
  },
  {
   "cell_type": "code",
   "execution_count": 5,
   "id": "f34c8222",
   "metadata": {},
   "outputs": [],
   "source": [
    "q_dict = dict()\n",
    "for site in range(numsites):\n",
    "    q_dict[site] = dict()\n",
    "    # get alphabet\n",
    "    for idx, char in enumerate(np.unique(msa.T[site])):\n",
    "        q_dict[site][char] = Q[site][idx]"
   ]
  },
  {
   "cell_type": "code",
   "execution_count": 6,
   "id": "d15bac24",
   "metadata": {},
   "outputs": [
    {
     "data": {
      "text/plain": [
       "{0: {0: 0.2, 1: 0.3}, 1: {0: 0.2, 1: 0.3}, 2: {0: 0.2, 2: 0.3}}"
      ]
     },
     "execution_count": 6,
     "metadata": {},
     "output_type": "execute_result"
    }
   ],
   "source": [
    "q_dict"
   ]
  },
  {
   "cell_type": "code",
   "execution_count": 7,
   "id": "7760b41e",
   "metadata": {},
   "outputs": [],
   "source": [
    "# nwkt.as_string(schema=\"newick\")\n",
    "# nwkt.as_ascii_plot()"
   ]
  },
  {
   "cell_type": "code",
   "execution_count": 8,
   "id": "3a79471a",
   "metadata": {},
   "outputs": [],
   "source": [
    "def get_branchlen(child_node):\n",
    "    # print(\"getting branch length\", child_node.edge_length)\n",
    "    if child_node.edge_length is None:\n",
    "        print(child_node.child_nodes())\n",
    "    return child_node.edge_length"
   ]
  },
  {
   "cell_type": "code",
   "execution_count": 9,
   "id": "a64f091d",
   "metadata": {},
   "outputs": [
    {
     "ename": "NameError",
     "evalue": "name 'math' is not defined",
     "output_type": "error",
     "traceback": [
      "\u001b[0;31m---------------------------------------------------------------------------\u001b[0m",
      "\u001b[0;31mNameError\u001b[0m                                 Traceback (most recent call last)",
      "\u001b[0;32m<ipython-input-9-d7fbef0462f9>\u001b[0m in \u001b[0;36m<module>\u001b[0;34m\u001b[0m\n\u001b[0;32m----> 1\u001b[0;31m \u001b[0;36m2\u001b[0m \u001b[0;34m*\u001b[0m \u001b[0;34m(\u001b[0m\u001b[0mmath\u001b[0m\u001b[0;34m.\u001b[0m\u001b[0mexp\u001b[0m\u001b[0;34m(\u001b[0m\u001b[0;34m-\u001b[0m\u001b[0;36m0.5\u001b[0m\u001b[0;34m)\u001b[0m \u001b[0;34m*\u001b[0m \u001b[0;36m1.0\u001b[0m\u001b[0;34m)\u001b[0m\u001b[0;34m\u001b[0m\u001b[0;34m\u001b[0m\u001b[0m\n\u001b[0m",
      "\u001b[0;31mNameError\u001b[0m: name 'math' is not defined"
     ]
    }
   ],
   "source": [
    "2 * (math.exp(-0.5) * 1.0)"
   ]
  },
  {
   "cell_type": "code",
   "execution_count": 10,
   "id": "72adb8b5",
   "metadata": {},
   "outputs": [],
   "source": [
    "import math\n",
    "\n",
    "def prob_same(nodedict, node_likelihood, site, curr_node):\n",
    "    # print(\"prob_same\")\n",
    "    # prob of staying in 0 \n",
    "    all_child_prob = 1.0\n",
    "    # print(curr_node.child_nodes())\n",
    "    for c in curr_node.child_nodes():\n",
    "        char_state_prob = 0.0\n",
    "        for alpha in nodedict[c][site]:\n",
    "            print(\"PS: get_branchlen(c)\", c, get_branchlen(c))\n",
    "            tp = math.exp(-get_branchlen(c))\n",
    "            char_state_prob += tp * node_likelihood[c][site]\n",
    "        all_child_prob *= char_state_prob\n",
    "    return all_child_prob\n",
    "\n",
    "def prob_change(q_dict, nodedict, node_likelihood, site, curr_state, curr_node):\n",
    "    all_child_prob = 1.0\n",
    "    for c in curr_node.child_nodes():\n",
    "        char_state_prob = 0.0\n",
    "        for alpha in nodedict[c][site]:\n",
    "            q_ialpha = q_dict[site][alpha] \n",
    "            tp = q_ialpha * (1 - math.exp(get_branchlen(c)))\n",
    "            char_state_prob += tp * node_likelihood[c][site]\n",
    "        all_child_prob *= char_state_prob\n",
    "    print(\"PC: get_branchlen(c)\", c, all_child_prob)\n",
    "    return all_child_prob\n"
   ]
  },
  {
   "cell_type": "code",
   "execution_count": 11,
   "id": "0499eef2",
   "metadata": {},
   "outputs": [],
   "source": [
    "def likelihood_under_n(nodedict, node_likelihood, n, site):\n",
    "    # n is an internal node\n",
    "    child_states = set()\n",
    "        \n",
    "    if n not in nodedict:\n",
    "        nodedict[n] = dict()\n",
    "        nodedict[n][site] = dict()\n",
    "        \n",
    "    # identify all child states. \n",
    "    # this constrains n's possible states.\n",
    "    child_states = set()\n",
    "    for child in n.child_nodes():\n",
    "        if child.is_leaf():\n",
    "            child_states.add(get_char(msa, child, site))\n",
    "        else:\n",
    "            for x in nodedict[child][site]:\n",
    "                state_prob = nodedict[child][site][x]\n",
    "                if state_prob > 0.0:\n",
    "                    child_states.add(x)\n",
    "                    \n",
    "    parent_poss_states = dict()\n",
    "    if len(child_states) == 1:\n",
    "        if 0 in child_states: # probability 0 -> 0\n",
    "            parent_poss_states[0] = prob_same(nodedict, node_likelihood, site, n) \n",
    "        else:\n",
    "            for c in child_states: # probability c -> c != 0\n",
    "                parent_poss_states[c] = 1.0 \n",
    "            # probability 0 -> c (alpha)\n",
    "            parent_poss_states[0] = prob_change(q_dict, nodedict, node_likelihood, site, 0, n)  \n",
    "    else:\n",
    "        # probability 0 -> 1 and 0 -> 2 or\n",
    "        # probability 0 -> 0 and 0 -> 1 WLOG\n",
    "        parent_poss_states[0] = 1.0\n",
    "    for x in parent_poss_states.keys():\n",
    "        # save into nodedict\n",
    "        nodedict[n][site][x] = parent_poss_states[x]\n",
    "        # product over all possible states\n",
    "        node_likelihood[n][site] *= parent_poss_states[x]\n",
    "    \n",
    "    return nodedict, node_likelihood"
   ]
  },
  {
   "cell_type": "code",
   "execution_count": 12,
   "id": "ce5dfe20",
   "metadata": {},
   "outputs": [],
   "source": [
    "def get_char(msa, leaf_node, site):\n",
    "    # print(leaf_node)\n",
    "    return msa[int(leaf_node.taxon.__str__().replace(\"'\", \"\"))-1][site]"
   ]
  },
  {
   "cell_type": "code",
   "execution_count": 13,
   "id": "bb927fbd",
   "metadata": {},
   "outputs": [],
   "source": [
    "# nodedict # node # site -> saves the probabilities of the possible states\n",
    "# node_likelihood # node # site"
   ]
  },
  {
   "cell_type": "code",
   "execution_count": 14,
   "id": "428f218e",
   "metadata": {
    "scrolled": false
   },
   "outputs": [
    {
     "name": "stdout",
     "output_type": "stream",
     "text": [
      "((1:0.5,2:0.5):0.6,(3:0.5,4:0.5):0.6)\n",
      "node: <Node object at 0x7fef91103310: 'None' (<Taxon 0x7fef91103350 '1'>)>\n",
      "node: <Node object at 0x7fef91103550: 'None' (<Taxon 0x7fef91103450 '2'>)>\n",
      "node: <Node object at 0x7fef91103290: 'None' (None)>\n",
      "site: 0\n",
      "PC: get_branchlen(c) <Node object at 0x7fef91103550: 'None' (<Taxon 0x7fef91103450 '2'>)> 0.03787553583529101\n",
      "site: 1\n",
      "PS: get_branchlen(c) <Node object at 0x7fef91103310: 'None' (<Taxon 0x7fef91103350 '1'>)> 0.5\n",
      "PS: get_branchlen(c) <Node object at 0x7fef91103550: 'None' (<Taxon 0x7fef91103450 '2'>)> 0.5\n",
      "site: 2\n",
      "node: <Node object at 0x7fef90a790d0: 'None' (<Taxon 0x7fef90a79190 '3'>)>\n",
      "node: <Node object at 0x7fef90a79250: 'None' (<Taxon 0x7fef90a792d0 '4'>)>\n",
      "node: <Node object at 0x7fef91103990: 'None' (None)>\n",
      "site: 0\n",
      "PS: get_branchlen(c) <Node object at 0x7fef90a790d0: 'None' (<Taxon 0x7fef90a79190 '3'>)> 0.5\n",
      "PS: get_branchlen(c) <Node object at 0x7fef90a79250: 'None' (<Taxon 0x7fef90a792d0 '4'>)> 0.5\n",
      "site: 1\n",
      "PC: get_branchlen(c) <Node object at 0x7fef90a79250: 'None' (<Taxon 0x7fef90a792d0 '4'>)> 0.03787553583529101\n",
      "site: 2\n",
      "node: <Node object at 0x7fef90a62cd0: 'None' (None)>\n",
      "site: 0\n",
      "site: 1\n",
      "site: 2\n",
      "PS: get_branchlen(c) <Node object at 0x7fef91103290: 'None' (None)> 0.6\n",
      "PS: get_branchlen(c) <Node object at 0x7fef91103990: 'None' (None)> 0.6\n",
      "Calculating likelihood according to a root node r*\n"
     ]
    },
    {
     "ename": "NameError",
     "evalue": "name 'x' is not defined",
     "output_type": "error",
     "traceback": [
      "\u001b[0;31m---------------------------------------------------------------------------\u001b[0m",
      "\u001b[0;31mNameError\u001b[0m                                 Traceback (most recent call last)",
      "\u001b[0;32m<ipython-input-14-d33424e6798c>\u001b[0m in \u001b[0;36m<module>\u001b[0;34m\u001b[0m\n\u001b[1;32m     39\u001b[0m     \u001b[0;31m# under node_likelihood, calculate the prob\u001b[0m\u001b[0;34m\u001b[0m\u001b[0;34m\u001b[0m\u001b[0;34m\u001b[0m\u001b[0m\n\u001b[1;32m     40\u001b[0m     \u001b[0;32mfor\u001b[0m \u001b[0mrootchar\u001b[0m \u001b[0;32min\u001b[0m \u001b[0mnodedict\u001b[0m\u001b[0;34m[\u001b[0m\u001b[0mn\u001b[0m\u001b[0;34m]\u001b[0m\u001b[0;34m[\u001b[0m\u001b[0msite\u001b[0m\u001b[0;34m]\u001b[0m\u001b[0;34m.\u001b[0m\u001b[0mkeys\u001b[0m\u001b[0;34m(\u001b[0m\u001b[0;34m)\u001b[0m\u001b[0;34m:\u001b[0m\u001b[0;34m\u001b[0m\u001b[0;34m\u001b[0m\u001b[0m\n\u001b[0;32m---> 41\u001b[0;31m         \u001b[0mprob_rootchar\u001b[0m \u001b[0;34m=\u001b[0m \u001b[0mnodedict\u001b[0m\u001b[0;34m[\u001b[0m\u001b[0mn\u001b[0m\u001b[0;34m]\u001b[0m\u001b[0;34m[\u001b[0m\u001b[0msite\u001b[0m\u001b[0;34m]\u001b[0m\u001b[0;34m[\u001b[0m\u001b[0mx\u001b[0m\u001b[0;34m]\u001b[0m\u001b[0;34m\u001b[0m\u001b[0;34m\u001b[0m\u001b[0m\n\u001b[0m\u001b[1;32m     42\u001b[0m         \u001b[0;32mif\u001b[0m \u001b[0mprob_rootchar\u001b[0m \u001b[0;34m>\u001b[0m \u001b[0;36m0.0\u001b[0m\u001b[0;34m:\u001b[0m\u001b[0;34m\u001b[0m\u001b[0;34m\u001b[0m\u001b[0m\n\u001b[1;32m     43\u001b[0m             \u001b[0;32mif\u001b[0m \u001b[0mrootchar\u001b[0m \u001b[0;34m==\u001b[0m \u001b[0;36m0\u001b[0m\u001b[0;34m:\u001b[0m\u001b[0;34m\u001b[0m\u001b[0;34m\u001b[0m\u001b[0m\n",
      "\u001b[0;31mNameError\u001b[0m: name 'x' is not defined"
     ]
    }
   ],
   "source": [
    "import dendropy\n",
    "\n",
    "# we take in a rooted tree\n",
    "nwkt = dendropy.Tree.get(data=t_C, schema=\"newick\")\n",
    "print(nwkt)\n",
    "nodedict = dict() # maps node to possible states, with probabilities\n",
    "node_likelihood = dict() # maps node to likelihood of subtree under node\n",
    "\n",
    "for n in nwkt.postorder_node_iter():\n",
    "    print(\"node:\", n)\n",
    "    if n.taxon is not None: # must be a leaf node, set up \n",
    "        nodedict[n] = dict()\n",
    "        node_likelihood[n] = dict()\n",
    "        for site in range(numsites):\n",
    "            char_state = get_char(msa, n, site)\n",
    "            nodedict[n][site] = dict()\n",
    "            nodedict[n][site][char_state] = 1.0\n",
    "            node_likelihood[n][site] = 1.0\n",
    "        \n",
    "    elif n.taxon is None: # must be an internal node\n",
    "        for site in range(numsites):\n",
    "            print(\"site:\", site)\n",
    "            if n not in nodedict:\n",
    "                nodedict[n] = dict()\n",
    "                node_likelihood[n] = dict()\n",
    "            \n",
    "            nodedict[n][site] = dict()\n",
    "            node_likelihood[n][site] = 1.0\n",
    "            \n",
    "            nodedict, node_likelihood = likelihood_under_n(nodedict, node_likelihood, n, site)\n",
    "\n",
    "# last n is the root node \n",
    "\n",
    "print(\"Calculating likelihood according to a root node r*\")\n",
    "# SETTING UP r*, say r* -> r is dist 0.2\n",
    "root_edge_len = 0.2\n",
    "tree_likelihood = 1.0\n",
    "for site in range(numsites):\n",
    "    # under node_likelihood, calculate the prob    \n",
    "    for rootchar in nodedict[n][site].keys():\n",
    "        prob_rootchar = nodedict[n][site][x]\n",
    "        if prob_rootchar > 0.0: \n",
    "            if rootchar == 0:\n",
    "                tree_likelihood *= (math.exp(-root_edge_len)) * node_likelihood[n][site]\n",
    "            else:\n",
    "                q_ialpha = q_dict[site][rootchar]\n",
    "                tree_likelihood *= (1 - math.exp(-root_edge_len)) * q_ialpha * node_likelihood[n][site]\n",
    "\n",
    "print(nwkt)\n",
    "print(tree_likelihood)\n"
   ]
  },
  {
   "cell_type": "markdown",
   "id": "277bf71f",
   "metadata": {},
   "source": [
    "nodedict: index with node, then site, then possible alphabet characters, mapped to the probability of taking on that character.\n",
    "node_likelihood: index with node, then site maps to probability."
   ]
  },
  {
   "cell_type": "code",
   "execution_count": 15,
   "id": "11d3dd80",
   "metadata": {},
   "outputs": [],
   "source": [
    "t_A = 2.062468362106625e-05\n",
    "t_B = 0.001953125\n",
    "t_C = 8.236339393882161e-09"
   ]
  },
  {
   "cell_type": "code",
   "execution_count": 16,
   "id": "398af905",
   "metadata": {},
   "outputs": [
    {
     "data": {
      "text/plain": [
       "True"
      ]
     },
     "execution_count": 16,
     "metadata": {},
     "output_type": "execute_result"
    }
   ],
   "source": [
    "t_C < t_B"
   ]
  },
  {
   "cell_type": "code",
   "execution_count": 17,
   "id": "900b6ee3",
   "metadata": {},
   "outputs": [
    {
     "data": {
      "text/plain": [
       "True"
      ]
     },
     "execution_count": 17,
     "metadata": {},
     "output_type": "execute_result"
    }
   ],
   "source": [
    "t_A > t_C"
   ]
  },
  {
   "cell_type": "code",
   "execution_count": 18,
   "id": "93e6c243",
   "metadata": {},
   "outputs": [],
   "source": [
    "# ziheng yang - must always be less than f_max <= \n",
    "# as you increase the number of k, should converge, check paper... "
   ]
  },
  {
   "cell_type": "code",
   "execution_count": 19,
   "id": "19add260",
   "metadata": {},
   "outputs": [],
   "source": [
    "# # make this into a function \n",
    "# def felsenstein(T, Q, msa): \n",
    "#     # tree w/ branch lengths as input\n",
    "#     # output a likelihood\n",
    "#     ##\n",
    "#     pass \n"
   ]
  },
  {
   "cell_type": "code",
   "execution_count": 20,
   "id": "18a5f63c",
   "metadata": {},
   "outputs": [],
   "source": [
    "import math\n",
    "\n",
    "p_0_to_1 = 0.3 * (1 - math.e**(-0.96))\n",
    "p_0_to_0 = math.e**(-0.96)\n",
    "p_0_to_2 = 0.5 * (1 - math.e**(-0.96))\n",
    "p_2_to_2 = 1.0"
   ]
  },
  {
   "cell_type": "code",
   "execution_count": 21,
   "id": "db9e3f2e",
   "metadata": {},
   "outputs": [
    {
     "data": {
      "text/plain": [
       "0.18513213420746638"
      ]
     },
     "execution_count": 21,
     "metadata": {},
     "output_type": "execute_result"
    }
   ],
   "source": [
    "p_0_to_1"
   ]
  },
  {
   "cell_type": "code",
   "execution_count": 22,
   "id": "31afe7b1",
   "metadata": {},
   "outputs": [
    {
     "data": {
      "text/plain": [
       "0.30855355701244397"
      ]
     },
     "execution_count": 22,
     "metadata": {},
     "output_type": "execute_result"
    }
   ],
   "source": [
    "p_0_to_2"
   ]
  },
  {
   "cell_type": "code",
   "execution_count": 23,
   "id": "5220b14e",
   "metadata": {},
   "outputs": [],
   "source": [
    "pos_1 = p_0_to_1 * p_0_to_0\n",
    "pos_2 = pos_1\n",
    "pos_3 = p_0_to_2 ** 2 "
   ]
  },
  {
   "cell_type": "code",
   "execution_count": 24,
   "id": "6993b426",
   "metadata": {},
   "outputs": [
    {
     "data": {
      "text/plain": [
       "0.07088577715342857"
      ]
     },
     "execution_count": 24,
     "metadata": {},
     "output_type": "execute_result"
    }
   ],
   "source": [
    "pos_1"
   ]
  },
  {
   "cell_type": "code",
   "execution_count": 25,
   "id": "3e6f8bf1",
   "metadata": {},
   "outputs": [
    {
     "data": {
      "text/plain": [
       "0.07088577715342857"
      ]
     },
     "execution_count": 25,
     "metadata": {},
     "output_type": "execute_result"
    }
   ],
   "source": [
    "pos_2"
   ]
  },
  {
   "cell_type": "code",
   "execution_count": 26,
   "id": "f27538e1",
   "metadata": {},
   "outputs": [
    {
     "data": {
      "text/plain": [
       "0.09520529754503151"
      ]
     },
     "execution_count": 26,
     "metadata": {},
     "output_type": "execute_result"
    }
   ],
   "source": [
    "pos_3"
   ]
  },
  {
   "cell_type": "code",
   "execution_count": 27,
   "id": "11b8c231",
   "metadata": {},
   "outputs": [
    {
     "data": {
      "text/plain": [
       "0.06162513414097765"
      ]
     },
     "execution_count": 27,
     "metadata": {},
     "output_type": "execute_result"
    }
   ],
   "source": [
    "a1 = 0.2 * math.e**(-0.14) * pos_1 # eq doesn't multiply by q_ialpha\n",
    "a = math.e**(-0.14) * pos_1\n",
    "a"
   ]
  },
  {
   "cell_type": "code",
   "execution_count": 28,
   "id": "e3993c6c",
   "metadata": {},
   "outputs": [
    {
     "data": {
      "text/plain": [
       "0.06532088230059707"
      ]
     },
     "execution_count": 28,
     "metadata": {},
     "output_type": "execute_result"
    }
   ],
   "source": [
    "c = 0.5 * (1 - math.e**(-0.14)) * 1.0\n",
    "c"
   ]
  },
  {
   "cell_type": "code",
   "execution_count": 29,
   "id": "e8624fc3",
   "metadata": {},
   "outputs": [
    {
     "data": {
      "text/plain": [
       "0.08276750947436685"
      ]
     },
     "execution_count": 29,
     "metadata": {},
     "output_type": "execute_result"
    }
   ],
   "source": [
    "b1 = 0.2 * math.e**(-0.14) * pos_3\n",
    "b = math.e**(-0.14) * pos_3\n",
    "\n",
    "b"
   ]
  },
  {
   "cell_type": "code",
   "execution_count": 30,
   "id": "4f6e8688",
   "metadata": {},
   "outputs": [
    {
     "data": {
      "text/plain": [
       "2.053183117873688e-05"
      ]
     },
     "execution_count": 30,
     "metadata": {},
     "output_type": "execute_result"
    }
   ],
   "source": [
    "a * a * b * c"
   ]
  },
  {
   "cell_type": "code",
   "execution_count": 31,
   "id": "f56e5870",
   "metadata": {},
   "outputs": [
    {
     "data": {
      "text/plain": [
       "0.06532088230059707"
      ]
     },
     "execution_count": 31,
     "metadata": {},
     "output_type": "execute_result"
    }
   ],
   "source": [
    "c"
   ]
  },
  {
   "cell_type": "code",
   "execution_count": 32,
   "id": "5eb3e51d",
   "metadata": {},
   "outputs": [],
   "source": [
    "# Tree Likelihood: -14.621847872951003\n"
   ]
  },
  {
   "cell_type": "code",
   "execution_count": null,
   "id": "e35d89fb",
   "metadata": {},
   "outputs": [],
   "source": []
  },
  {
   "cell_type": "code",
   "execution_count": 33,
   "id": "531bce21",
   "metadata": {},
   "outputs": [
    {
     "data": {
      "text/plain": [
       "0.004105489706167181"
      ]
     },
     "execution_count": 33,
     "metadata": {},
     "output_type": "execute_result"
    }
   ],
   "source": [
    "site0_char0 = math.e**(-0.14) * pos_1 * 0.3 * (1 - math.e**(-1.1)) * math.e**(-1.1)*1.0\n",
    "site0_char0"
   ]
  },
  {
   "cell_type": "code",
   "execution_count": 34,
   "id": "831a21eb",
   "metadata": {},
   "outputs": [
    {
     "data": {
      "text/plain": [
       "0.004105489706167181"
      ]
     },
     "execution_count": 34,
     "metadata": {},
     "output_type": "execute_result"
    }
   ],
   "source": [
    "site1_char0 = math.e**(-0.14) * pos_1 * 0.3 * (1 - math.e**(-1.1)) * math.e**(-1.1)*1.0\n",
    "site1_char0"
   ]
  },
  {
   "cell_type": "code",
   "execution_count": 35,
   "id": "332d50ec",
   "metadata": {},
   "outputs": [
    {
     "data": {
      "text/plain": [
       "0.0005990513748292632"
      ]
     },
     "execution_count": 35,
     "metadata": {},
     "output_type": "execute_result"
    }
   ],
   "source": [
    "site2_char0 = math.e**(-0.14) * pos_3 * 0.5 * (1 - math.e**(-0.14)) * 1.0 * math.e**(-1.1) * 1.0 * math.e**(-1.1) * 1.0\n",
    "site2_char0"
   ]
  },
  {
   "cell_type": "code",
   "execution_count": 36,
   "id": "6ff347ac",
   "metadata": {},
   "outputs": [
    {
     "ename": "SyntaxError",
     "evalue": "invalid syntax (<ipython-input-36-1e243c96dc62>, line 1)",
     "output_type": "error",
     "traceback": [
      "\u001b[0;36m  File \u001b[0;32m\"<ipython-input-36-1e243c96dc62>\"\u001b[0;36m, line \u001b[0;32m1\u001b[0m\n\u001b[0;31m    likelihood 1.009703831583584e-08\u001b[0m\n\u001b[0m                                   ^\u001b[0m\n\u001b[0;31mSyntaxError\u001b[0m\u001b[0;31m:\u001b[0m invalid syntax\n"
     ]
    }
   ],
   "source": [
    "likelihood 1.009703831583584e-08\n"
   ]
  },
  {
   "cell_type": "code",
   "execution_count": 37,
   "id": "b75e7b19",
   "metadata": {},
   "outputs": [
    {
     "data": {
      "text/plain": [
       "0.004105489706167181"
      ]
     },
     "execution_count": 37,
     "metadata": {},
     "output_type": "execute_result"
    }
   ],
   "source": [
    "site0_char0"
   ]
  },
  {
   "cell_type": "code",
   "execution_count": 38,
   "id": "d696c15b",
   "metadata": {},
   "outputs": [],
   "source": [
    "root_site0 = site0_char0 * math.e**(-0.0360971597765934)\n",
    "root_site1 = site0_char0 * math.e**(-0.0360971597765934)"
   ]
  },
  {
   "cell_type": "code",
   "execution_count": 39,
   "id": "f1b8e14f",
   "metadata": {},
   "outputs": [],
   "source": [
    "root_site2 = site2_char0 * math.e**(-0.0360971597765934)"
   ]
  },
  {
   "cell_type": "code",
   "execution_count": 40,
   "id": "54847ae2",
   "metadata": {},
   "outputs": [
    {
     "data": {
      "text/plain": [
       "9.060738831489322e-09"
      ]
     },
     "execution_count": 40,
     "metadata": {},
     "output_type": "execute_result"
    }
   ],
   "source": [
    "root_site0 * root_site1 * root_site2"
   ]
  },
  {
   "cell_type": "markdown",
   "id": "a0fa113e",
   "metadata": {},
   "source": [
    "Try for a small example."
   ]
  },
  {
   "cell_type": "code",
   "execution_count": 41,
   "id": "67e5d62c",
   "metadata": {},
   "outputs": [],
   "source": [
    "a = [3, 0, 0]\n",
    "b = [3, 6, 4]\n",
    "d = [1, 10, 10]\n",
    "\n",
    "# true tree branches\n",
    "d_a = 0.0360971597765934\n",
    "d_b = 3.339535381892265\n",
    "d_r = 0.0360971597765934\n",
    "\n",
    "# false tree branches\n",
    "# d_a = 0.0360971597765934 * 2\n",
    "# d_b = 0.0360971597765934 + 3.339535381892265 \n",
    "# d_r = 0.0"
   ]
  },
  {
   "cell_type": "code",
   "execution_count": null,
   "id": "69c72281",
   "metadata": {},
   "outputs": [],
   "source": [
    "# for \n",
    "# site0_char0"
   ]
  }
 ],
 "metadata": {
  "kernelspec": {
   "display_name": "Python 3",
   "language": "python",
   "name": "python3"
  },
  "language_info": {
   "codemirror_mode": {
    "name": "ipython",
    "version": 3
   },
   "file_extension": ".py",
   "mimetype": "text/x-python",
   "name": "python",
   "nbconvert_exporter": "python",
   "pygments_lexer": "ipython3",
   "version": "3.7.10"
  }
 },
 "nbformat": 4,
 "nbformat_minor": 5
}
